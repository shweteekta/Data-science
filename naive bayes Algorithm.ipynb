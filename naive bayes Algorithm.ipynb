{
    "nbformat_minor": 1, 
    "cells": [
        {
            "execution_count": 1, 
            "cell_type": "code", 
            "metadata": {}, 
            "outputs": [
                {
                    "output_type": "stream", 
                    "name": "stdout", 
                    "text": "--2019-03-18 07:52:21--  http://person_data.txt/\nResolving person_data.txt (person_data.txt)... failed: Name or service not known.\nwget: unable to resolve host address \u2018person_data.txt\u2019\n--2019-03-18 07:52:21--  https://www.python-course.eu/data/person_data.txt\nResolving www.python-course.eu (www.python-course.eu)... 138.201.17.115, 2a01:4f8:171:286f::4\nConnecting to www.python-course.eu (www.python-course.eu)|138.201.17.115|:443... connected.\nHTTP request sent, awaiting response... 200 OK\nLength: 2758 (2.7K) [text/plain]\nSaving to: \u2018person_data.txt\u2019\n\n100%[======================================>] 2,758       --.-K/s   in 0s      \n\n2019-03-18 07:52:22 (137 MB/s) - \u2018person_data.txt\u2019 saved [2758/2758]\n\nFINISHED --2019-03-18 07:52:22--\nTotal wall clock time: 0.6s\nDownloaded: 1 files, 2.7K in 0s (137 MB/s)\nName Height Weight Gender\nRandy Carter 184 73.0 male\n\nStephanie Smith 149 52 female\n\nCynthia Watson 174 63 female\n\nJessie Morgan 175 67.0 male\n\nKatherine Carter 183 81 female\n\nDavid Reed 187 60.0 male\n\nStephen Jones 192 96.0 male\n\nJerry Allen 204 91.0 male\n\nBilly Wright 180 66.0 male\n\nEarl Green 184 52.0 male\n\nTodd Bell 174 53.0 male\n\nfemale:\n['Stephanie', 'Cynthia', 'Katherine', 'Elizabeth', 'Carol', 'Christina', 'Beverly', 'Sharon', 'Denise', 'Rebecca']\n[149 174 183 138 145 161 179 162 148 196]\nmale:\n['Randy', 'Jessie', 'David', 'Stephen', 'Jerry', 'Billy', 'Earl', 'Todd', 'Martin', 'Kenneth']\n[184 175 187 192 204 180 184 174 177 200]\nmale {160: 5, 195: 2, 180: 5, 165: 4, 200: 3, 185: 8, 170: 6, 155: 1, 190: 8, 175: 7}\nfemale {160: 8, 130: 1, 165: 11, 135: 1, 170: 7, 140: 0, 175: 2, 145: 3, 180: 4, 150: 5, 185: 0, 155: 7}\nProbabilities associated with each class For checking values of Height between 130 to 150\n130 [(0.0, 'male'), (1.0, 'female')]\n135 [(0.0, 'male'), (1.0, 'female')]\n140 [(0.5, 'male'), (0.5, 'female')]\n145 [(0.0, 'male'), (1.0, 'female')]\n"
                }
            ], 
            "source": " #person_data.txt files contains names,height and weight of particular gender class\n!wget person_data.txt https://www.python-course.eu/data/person_data.txt\nexample1=\"person_data.txt\"\nwith open(example1,\"r\") as file1: # No need to seperately close the file\n    data= file1.readlines()\n    print(\"Name Height Weight Gender\")\n\n    for i in range(0,11):\n        print(data[i])\n\n\nimport numpy as np\ngenders = [\"male\", \"female\"]\npersons = []\nwith open(\"person_data.txt\") as fh:\n    for line in fh:\n        persons.append(line.strip().split())\nfirstnames = {}\nheights = {}\nfor gender in genders:\n    firstnames[gender] = [ x[0] for x in persons if x[4]==gender]\n    heights[gender] = [ x[2] for x in persons if x[4]==gender]\n    heights[gender] = np.array(heights[gender], np.int)\n\n\nfor gender in (\"female\", \"male\"):\n    print(gender + \":\")\n    print(firstnames[gender][:10])\n    print(heights[gender][:10])\nfrom collections import Counter\nimport numpy as np\nclass Feature:\n    \n    def __init__(self, data, name=None, bin_width=None):\n        self.name = name\n        self.bin_width = bin_width\n        if bin_width:\n            self.min, self.max = min(data), max(data)\n            bins = np.arange((self.min // bin_width) * bin_width, \n                                (self.max // bin_width) * bin_width,\n                                bin_width)\n            freq, bins = np.histogram(data, bins)\n            self.freq_dict = dict(zip(bins, freq))\n            self.freq_sum = sum(freq)\n        else:\n            self.freq_dict = dict(Counter(data))\n            self.freq_sum = sum(self.freq_dict.values())\n            \n        \n        \n    def frequency(self, value):\n        if self.bin_width:\n            value = (value // self.bin_width) * self.bin_width\n        if value in self.freq_dict:\n            return self.freq_dict[value]\n        else:\n            return 0\nclass NBclass:\n        \n        def __init__(self, name, *features):\n            self.features = features\n            self.name = name\n            \n        def probability_value_given_feature(self, \n                                            feature_value,\n                                            feature):\n            \"\"\"\n            p_value_given_feature returns the probability p \n            for a feature_value 'value' of the feature  to occurr\n            corresponds to P(d_i | p_j)\n            where d_i is a feature variable of the feature i\n            \"\"\"\n            \n            if feature.freq_sum == 0:\n                return 0\n            else:\n                return feature.frequency(feature_value) / feature.freq_sum\nfts = {}\nfor gender in genders:\n    fts[gender] = Feature(heights[gender], name=gender, bin_width=5)\n    print(gender, fts[gender].freq_dict)\ncls = {}\nfor gender in genders:\n    cls[gender] = NBclass(gender, fts[gender])\nclass Classifier:\n    \n    def __init__(self, *nbclasses):\n        self.nbclasses = nbclasses\n        \n        \n    def prob(self, *d, best_only=True):\n        \n        nbclasses = self.nbclasses\n        probability_list = []\n        for nbclass in nbclasses:            \n            ftrs = nbclass.features\n            prob = 1\n            for i in range(len(ftrs)):\n                prob *= nbclass.probability_value_given_feature(d[i], ftrs[i])\n              \n            probability_list.append( (prob, nbclass.name) )\n        prob_values = [f[0] for f in probability_list]\n        prob_sum = sum(prob_values)\n        if prob_sum==0:\n            number_classes = len(self.nbclasses)\n            pl = []\n            for prob_element in probability_list:\n                pl.append( ((1 / number_classes), prob_element[1]))\n            probability_list = pl\n        else:\n            probability_list = [ (p[0] / prob_sum, p[1])  for p in probability_list]\n        if best_only:\n            return max(probability_list)\n        else:\n            return probability_list\n\n# To classify into class male or female\nc = Classifier(cls[\"male\"], cls[\"female\"])\n\nprint(\"Probabilities associated with each class For checking values of Height between 130 to 150\")\nfor i in range(130, 150,5):\n    print(i, c.prob(i, best_only=False))\n\n\n"
        }, 
        {
            "execution_count": null, 
            "cell_type": "code", 
            "metadata": {}, 
            "outputs": [], 
            "source": ""
        }
    ], 
    "metadata": {
        "kernelspec": {
            "display_name": "Python 3.5", 
            "name": "python3", 
            "language": "python"
        }, 
        "language_info": {
            "mimetype": "text/x-python", 
            "nbconvert_exporter": "python", 
            "version": "3.5.5", 
            "name": "python", 
            "file_extension": ".py", 
            "pygments_lexer": "ipython3", 
            "codemirror_mode": {
                "version": 3, 
                "name": "ipython"
            }
        }
    }, 
    "nbformat": 4
}